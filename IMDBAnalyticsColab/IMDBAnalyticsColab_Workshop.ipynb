{
  "nbformat": 4,
  "nbformat_minor": 0,
  "metadata": {
    "colab": {
      "provenance": [],
      "include_colab_link": true
    },
    "kernelspec": {
      "name": "python3",
      "display_name": "Python 3"
    },
    "language_info": {
      "name": "python"
    }
  },
  "cells": [
    {
      "cell_type": "markdown",
      "metadata": {
        "id": "view-in-github",
        "colab_type": "text"
      },
      "source": [
        "<a href=\"https://colab.research.google.com/github/dgonzalezt2/IMDBAnalytics/blob/main/IMDBAnalyticsColab/IMDBAnalyticsColab_Workshop.ipynb\" target=\"_parent\"><img src=\"https://colab.research.google.com/assets/colab-badge.svg\" alt=\"Open In Colab\"/></a>"
      ]
    },
    {
      "cell_type": "markdown",
      "source": [
        "# Taller\n",
        "\n",
        "Responder las preguntas de analítica acerca de la base de datos de IMDB que se encuentran a lo largo de este documento. Modifique el nombre de este archivo por el número de su documento (123456789.ipynb) y adjúntelo como parte de los entregables del taller.\n",
        "\n",
        "Nombre: \n",
        "\n"
      ],
      "metadata": {
        "id": "SZlxLS6OG3Y0"
      }
    },
    {
      "cell_type": "markdown",
      "source": [
        "### Descargar los datos:\n",
        "- Tabla de películas\n",
        "- Archivo .shp y archivos auxiliares con la información necesaria para pintar el mapa\n",
        "\n",
        "Estos archivos quedarán en la carpeta _/content/IMDBAnalyticsData/_ asociada con el sistema operativo del servidor en el que se está ejecutando google colab. "
      ],
      "metadata": {
        "id": "4lbh7BNKG9SR"
      }
    },
    {
      "cell_type": "code",
      "source": [
        "!wget --no-check-certificate 'https://docs.google.com/uc?export=download&id=1osH_xhTCW4Qh7f00VU_UaRK5whEXe8dr' -O data\n",
        "!unzip \"/content/data\" -d \"/content/IMDBAnalyticsData/\"\n"
      ],
      "metadata": {
        "colab": {
          "base_uri": "https://localhost:8080/"
        },
        "id": "jO_I6ahfDyd2",
        "outputId": "8d1989e0-74e4-4056-d741-7e5a00182860"
      },
      "execution_count": 6,
      "outputs": [
        {
          "output_type": "stream",
          "name": "stdout",
          "text": [
            "--2023-03-02 18:53:29--  https://docs.google.com/uc?export=download&id=1osH_xhTCW4Qh7f00VU_UaRK5whEXe8dr\n",
            "Resolving docs.google.com (docs.google.com)... 172.253.115.100, 172.253.115.138, 172.253.115.139, ...\n",
            "Connecting to docs.google.com (docs.google.com)|172.253.115.100|:443... connected.\n",
            "HTTP request sent, awaiting response... 303 See Other\n",
            "Location: https://doc-14-6c-docs.googleusercontent.com/docs/securesc/ha0ro937gcuc7l7deffksulhg5h7mbp1/gnsjsfhe7snhjd55u2jvvmhbdd9oc3qc/1677783150000/15315348669826032119/*/1osH_xhTCW4Qh7f00VU_UaRK5whEXe8dr?e=download&uuid=5f1526ee-972a-4d6a-920b-ac2bd10953d4 [following]\n",
            "Warning: wildcards not supported in HTTP.\n",
            "--2023-03-02 18:53:30--  https://doc-14-6c-docs.googleusercontent.com/docs/securesc/ha0ro937gcuc7l7deffksulhg5h7mbp1/gnsjsfhe7snhjd55u2jvvmhbdd9oc3qc/1677783150000/15315348669826032119/*/1osH_xhTCW4Qh7f00VU_UaRK5whEXe8dr?e=download&uuid=5f1526ee-972a-4d6a-920b-ac2bd10953d4\n",
            "Resolving doc-14-6c-docs.googleusercontent.com (doc-14-6c-docs.googleusercontent.com)... 172.253.62.132, 2607:f8b0:4004:c07::84\n",
            "Connecting to doc-14-6c-docs.googleusercontent.com (doc-14-6c-docs.googleusercontent.com)|172.253.62.132|:443... connected.\n",
            "HTTP request sent, awaiting response... 200 OK\n",
            "Length: 5477009 (5.2M) [application/x-zip-compressed]\n",
            "Saving to: ‘data’\n",
            "\n",
            "data                100%[===================>]   5.22M  --.-KB/s    in 0.04s   \n",
            "\n",
            "2023-03-02 18:53:30 (128 MB/s) - ‘data’ saved [5477009/5477009]\n",
            "\n",
            "Archive:  /content/data\n",
            "  inflating: /content/IMDBAnalyticsData/Data/Map/ne_10m_admin_0_countries.cpg  \n",
            "  inflating: /content/IMDBAnalyticsData/Data/Map/ne_10m_admin_0_countries.prj  \n",
            "  inflating: /content/IMDBAnalyticsData/Data/Map/ne_10m_admin_0_countries.VERSION.txt  \n",
            "  inflating: /content/IMDBAnalyticsData/Data/Map/ne_10m_admin_0_countries.README.html  \n",
            "  inflating: /content/IMDBAnalyticsData/Data/Map/ne_10m_admin_0_countries.shx  \n",
            "  inflating: /content/IMDBAnalyticsData/Data/Map/ne_10m_admin_0_countries.dbf  \n",
            "  inflating: /content/IMDBAnalyticsData/Data/Map/ne_10m_admin_0_countries.shp  \n",
            "  inflating: /content/IMDBAnalyticsData/Data/movie_metadata.csv  \n"
          ]
        }
      ]
    },
    {
      "cell_type": "markdown",
      "source": [
        "\n",
        "### Importar las librerías necesarias\n",
        "\n",
        "La libreia geopandas, que sirve para el procesamiento de archivos con información geográfica (shapefiles) no está instalada por defecto en el ambiente de google colab. Por esta razón, debe instalarla"
      ],
      "metadata": {
        "id": "z5LqB-gxeKWH"
      }
    },
    {
      "cell_type": "code",
      "source": [
        "!pip install geopandas"
      ],
      "metadata": {
        "id": "IO_Un0vgte_k",
        "outputId": "482051cd-8d0a-4242-f578-1fac82369968",
        "colab": {
          "base_uri": "https://localhost:8080/"
        }
      },
      "execution_count": 7,
      "outputs": [
        {
          "output_type": "stream",
          "name": "stdout",
          "text": [
            "Looking in indexes: https://pypi.org/simple, https://us-python.pkg.dev/colab-wheels/public/simple/\n",
            "Collecting geopandas\n",
            "  Downloading geopandas-0.12.2-py3-none-any.whl (1.1 MB)\n",
            "\u001b[2K     \u001b[90m━━━━━━━━━━━━━━━━━━━━━━━━━━━━━━━━━━━━━━━━\u001b[0m \u001b[32m1.1/1.1 MB\u001b[0m \u001b[31m46.7 MB/s\u001b[0m eta \u001b[36m0:00:00\u001b[0m\n",
            "\u001b[?25hRequirement already satisfied: packaging in /usr/local/lib/python3.8/dist-packages (from geopandas) (23.0)\n",
            "Collecting fiona>=1.8\n",
            "  Downloading Fiona-1.9.1-cp38-cp38-manylinux_2_17_x86_64.manylinux2014_x86_64.whl (16.0 MB)\n",
            "\u001b[2K     \u001b[90m━━━━━━━━━━━━━━━━━━━━━━━━━━━━━━━━━━━━━━━━\u001b[0m \u001b[32m16.0/16.0 MB\u001b[0m \u001b[31m88.6 MB/s\u001b[0m eta \u001b[36m0:00:00\u001b[0m\n",
            "\u001b[?25hRequirement already satisfied: shapely>=1.7 in /usr/local/lib/python3.8/dist-packages (from geopandas) (2.0.1)\n",
            "Collecting pyproj>=2.6.1.post1\n",
            "  Downloading pyproj-3.4.1-cp38-cp38-manylinux_2_17_x86_64.manylinux2014_x86_64.whl (7.8 MB)\n",
            "\u001b[2K     \u001b[90m━━━━━━━━━━━━━━━━━━━━━━━━━━━━━━━━━━━━━━━━\u001b[0m \u001b[32m7.8/7.8 MB\u001b[0m \u001b[31m108.2 MB/s\u001b[0m eta \u001b[36m0:00:00\u001b[0m\n",
            "\u001b[?25hRequirement already satisfied: pandas>=1.0.0 in /usr/local/lib/python3.8/dist-packages (from geopandas) (1.3.5)\n",
            "Requirement already satisfied: attrs>=19.2.0 in /usr/local/lib/python3.8/dist-packages (from fiona>=1.8->geopandas) (22.2.0)\n",
            "Requirement already satisfied: click~=8.0 in /usr/local/lib/python3.8/dist-packages (from fiona>=1.8->geopandas) (8.1.3)\n",
            "Collecting click-plugins>=1.0\n",
            "  Downloading click_plugins-1.1.1-py2.py3-none-any.whl (7.5 kB)\n",
            "Collecting munch>=2.3.2\n",
            "  Downloading munch-2.5.0-py2.py3-none-any.whl (10 kB)\n",
            "Requirement already satisfied: setuptools in /usr/local/lib/python3.8/dist-packages (from fiona>=1.8->geopandas) (57.4.0)\n",
            "Collecting cligj>=0.5\n",
            "  Downloading cligj-0.7.2-py3-none-any.whl (7.1 kB)\n",
            "Requirement already satisfied: certifi in /usr/local/lib/python3.8/dist-packages (from fiona>=1.8->geopandas) (2022.12.7)\n",
            "Requirement already satisfied: python-dateutil>=2.7.3 in /usr/local/lib/python3.8/dist-packages (from pandas>=1.0.0->geopandas) (2.8.2)\n",
            "Requirement already satisfied: pytz>=2017.3 in /usr/local/lib/python3.8/dist-packages (from pandas>=1.0.0->geopandas) (2022.7.1)\n",
            "Requirement already satisfied: numpy>=1.17.3 in /usr/local/lib/python3.8/dist-packages (from pandas>=1.0.0->geopandas) (1.22.4)\n",
            "Requirement already satisfied: six in /usr/local/lib/python3.8/dist-packages (from munch>=2.3.2->fiona>=1.8->geopandas) (1.15.0)\n",
            "Installing collected packages: pyproj, munch, cligj, click-plugins, fiona, geopandas\n",
            "Successfully installed click-plugins-1.1.1 cligj-0.7.2 fiona-1.9.1 geopandas-0.12.2 munch-2.5.0 pyproj-3.4.1\n"
          ]
        }
      ]
    },
    {
      "cell_type": "code",
      "execution_count": 8,
      "metadata": {
        "id": "gXDsfA6PCpms"
      },
      "outputs": [],
      "source": [
        "import pandas as pd\n",
        "import geopandas as gpd\n",
        "import numpy as np\n",
        "import matplotlib.pyplot as plt\n",
        "import plotly.express as px"
      ]
    },
    {
      "cell_type": "markdown",
      "source": [
        "### Información básica de la tabla de películas"
      ],
      "metadata": {
        "id": "8uCkZbZ0HSWe"
      }
    },
    {
      "cell_type": "code",
      "source": [
        "df = pd.read_csv('IMDBAnalyticsData/Data/movie_metadata.csv')\n",
        "df.head()"
      ],
      "metadata": {
        "colab": {
          "base_uri": "https://localhost:8080/",
          "height": 352
        },
        "id": "j1UQiTevGShR",
        "outputId": "b965a703-e35e-4ffc-8607-7b77df294c27"
      },
      "execution_count": 10,
      "outputs": [
        {
          "output_type": "execute_result",
          "data": {
            "text/plain": [
              "   color      director_name  num_critic_for_reviews  duration  \\\n",
              "0  Color      James Cameron                   723.0     178.0   \n",
              "1  Color     Gore Verbinski                   302.0     169.0   \n",
              "2  Color         Sam Mendes                   602.0     148.0   \n",
              "3  Color  Christopher Nolan                   813.0     164.0   \n",
              "4    NaN        Doug Walker                     NaN       NaN   \n",
              "\n",
              "   director_facebook_likes  actor_3_facebook_likes      actor_2_name  \\\n",
              "0                      0.0                   855.0  Joel David Moore   \n",
              "1                    563.0                  1000.0     Orlando Bloom   \n",
              "2                      0.0                   161.0      Rory Kinnear   \n",
              "3                  22000.0                 23000.0    Christian Bale   \n",
              "4                    131.0                     NaN        Rob Walker   \n",
              "\n",
              "   actor_1_facebook_likes        gross                           genres  ...  \\\n",
              "0                  1000.0  760505847.0  Action|Adventure|Fantasy|Sci-Fi  ...   \n",
              "1                 40000.0  309404152.0         Action|Adventure|Fantasy  ...   \n",
              "2                 11000.0  200074175.0        Action|Adventure|Thriller  ...   \n",
              "3                 27000.0  448130642.0                  Action|Thriller  ...   \n",
              "4                   131.0          NaN                      Documentary  ...   \n",
              "\n",
              "  num_user_for_reviews language  country  content_rating       budget  \\\n",
              "0               3054.0  English      USA           PG-13  237000000.0   \n",
              "1               1238.0  English      USA           PG-13  300000000.0   \n",
              "2                994.0  English       UK           PG-13  245000000.0   \n",
              "3               2701.0  English      USA           PG-13  250000000.0   \n",
              "4                  NaN      NaN      NaN             NaN          NaN   \n",
              "\n",
              "   title_year actor_2_facebook_likes imdb_score  aspect_ratio  \\\n",
              "0      2009.0                  936.0        7.9          1.78   \n",
              "1      2007.0                 5000.0        7.1          2.35   \n",
              "2      2015.0                  393.0        6.8          2.35   \n",
              "3      2012.0                23000.0        8.5          2.35   \n",
              "4         NaN                   12.0        7.1           NaN   \n",
              "\n",
              "  movie_facebook_likes  \n",
              "0                33000  \n",
              "1                    0  \n",
              "2                85000  \n",
              "3               164000  \n",
              "4                    0  \n",
              "\n",
              "[5 rows x 28 columns]"
            ],
            "text/html": [
              "\n",
              "  <div id=\"df-af1559bf-4337-4f33-92ee-6cbc6213c282\">\n",
              "    <div class=\"colab-df-container\">\n",
              "      <div>\n",
              "<style scoped>\n",
              "    .dataframe tbody tr th:only-of-type {\n",
              "        vertical-align: middle;\n",
              "    }\n",
              "\n",
              "    .dataframe tbody tr th {\n",
              "        vertical-align: top;\n",
              "    }\n",
              "\n",
              "    .dataframe thead th {\n",
              "        text-align: right;\n",
              "    }\n",
              "</style>\n",
              "<table border=\"1\" class=\"dataframe\">\n",
              "  <thead>\n",
              "    <tr style=\"text-align: right;\">\n",
              "      <th></th>\n",
              "      <th>color</th>\n",
              "      <th>director_name</th>\n",
              "      <th>num_critic_for_reviews</th>\n",
              "      <th>duration</th>\n",
              "      <th>director_facebook_likes</th>\n",
              "      <th>actor_3_facebook_likes</th>\n",
              "      <th>actor_2_name</th>\n",
              "      <th>actor_1_facebook_likes</th>\n",
              "      <th>gross</th>\n",
              "      <th>genres</th>\n",
              "      <th>...</th>\n",
              "      <th>num_user_for_reviews</th>\n",
              "      <th>language</th>\n",
              "      <th>country</th>\n",
              "      <th>content_rating</th>\n",
              "      <th>budget</th>\n",
              "      <th>title_year</th>\n",
              "      <th>actor_2_facebook_likes</th>\n",
              "      <th>imdb_score</th>\n",
              "      <th>aspect_ratio</th>\n",
              "      <th>movie_facebook_likes</th>\n",
              "    </tr>\n",
              "  </thead>\n",
              "  <tbody>\n",
              "    <tr>\n",
              "      <th>0</th>\n",
              "      <td>Color</td>\n",
              "      <td>James Cameron</td>\n",
              "      <td>723.0</td>\n",
              "      <td>178.0</td>\n",
              "      <td>0.0</td>\n",
              "      <td>855.0</td>\n",
              "      <td>Joel David Moore</td>\n",
              "      <td>1000.0</td>\n",
              "      <td>760505847.0</td>\n",
              "      <td>Action|Adventure|Fantasy|Sci-Fi</td>\n",
              "      <td>...</td>\n",
              "      <td>3054.0</td>\n",
              "      <td>English</td>\n",
              "      <td>USA</td>\n",
              "      <td>PG-13</td>\n",
              "      <td>237000000.0</td>\n",
              "      <td>2009.0</td>\n",
              "      <td>936.0</td>\n",
              "      <td>7.9</td>\n",
              "      <td>1.78</td>\n",
              "      <td>33000</td>\n",
              "    </tr>\n",
              "    <tr>\n",
              "      <th>1</th>\n",
              "      <td>Color</td>\n",
              "      <td>Gore Verbinski</td>\n",
              "      <td>302.0</td>\n",
              "      <td>169.0</td>\n",
              "      <td>563.0</td>\n",
              "      <td>1000.0</td>\n",
              "      <td>Orlando Bloom</td>\n",
              "      <td>40000.0</td>\n",
              "      <td>309404152.0</td>\n",
              "      <td>Action|Adventure|Fantasy</td>\n",
              "      <td>...</td>\n",
              "      <td>1238.0</td>\n",
              "      <td>English</td>\n",
              "      <td>USA</td>\n",
              "      <td>PG-13</td>\n",
              "      <td>300000000.0</td>\n",
              "      <td>2007.0</td>\n",
              "      <td>5000.0</td>\n",
              "      <td>7.1</td>\n",
              "      <td>2.35</td>\n",
              "      <td>0</td>\n",
              "    </tr>\n",
              "    <tr>\n",
              "      <th>2</th>\n",
              "      <td>Color</td>\n",
              "      <td>Sam Mendes</td>\n",
              "      <td>602.0</td>\n",
              "      <td>148.0</td>\n",
              "      <td>0.0</td>\n",
              "      <td>161.0</td>\n",
              "      <td>Rory Kinnear</td>\n",
              "      <td>11000.0</td>\n",
              "      <td>200074175.0</td>\n",
              "      <td>Action|Adventure|Thriller</td>\n",
              "      <td>...</td>\n",
              "      <td>994.0</td>\n",
              "      <td>English</td>\n",
              "      <td>UK</td>\n",
              "      <td>PG-13</td>\n",
              "      <td>245000000.0</td>\n",
              "      <td>2015.0</td>\n",
              "      <td>393.0</td>\n",
              "      <td>6.8</td>\n",
              "      <td>2.35</td>\n",
              "      <td>85000</td>\n",
              "    </tr>\n",
              "    <tr>\n",
              "      <th>3</th>\n",
              "      <td>Color</td>\n",
              "      <td>Christopher Nolan</td>\n",
              "      <td>813.0</td>\n",
              "      <td>164.0</td>\n",
              "      <td>22000.0</td>\n",
              "      <td>23000.0</td>\n",
              "      <td>Christian Bale</td>\n",
              "      <td>27000.0</td>\n",
              "      <td>448130642.0</td>\n",
              "      <td>Action|Thriller</td>\n",
              "      <td>...</td>\n",
              "      <td>2701.0</td>\n",
              "      <td>English</td>\n",
              "      <td>USA</td>\n",
              "      <td>PG-13</td>\n",
              "      <td>250000000.0</td>\n",
              "      <td>2012.0</td>\n",
              "      <td>23000.0</td>\n",
              "      <td>8.5</td>\n",
              "      <td>2.35</td>\n",
              "      <td>164000</td>\n",
              "    </tr>\n",
              "    <tr>\n",
              "      <th>4</th>\n",
              "      <td>NaN</td>\n",
              "      <td>Doug Walker</td>\n",
              "      <td>NaN</td>\n",
              "      <td>NaN</td>\n",
              "      <td>131.0</td>\n",
              "      <td>NaN</td>\n",
              "      <td>Rob Walker</td>\n",
              "      <td>131.0</td>\n",
              "      <td>NaN</td>\n",
              "      <td>Documentary</td>\n",
              "      <td>...</td>\n",
              "      <td>NaN</td>\n",
              "      <td>NaN</td>\n",
              "      <td>NaN</td>\n",
              "      <td>NaN</td>\n",
              "      <td>NaN</td>\n",
              "      <td>NaN</td>\n",
              "      <td>12.0</td>\n",
              "      <td>7.1</td>\n",
              "      <td>NaN</td>\n",
              "      <td>0</td>\n",
              "    </tr>\n",
              "  </tbody>\n",
              "</table>\n",
              "<p>5 rows × 28 columns</p>\n",
              "</div>\n",
              "      <button class=\"colab-df-convert\" onclick=\"convertToInteractive('df-af1559bf-4337-4f33-92ee-6cbc6213c282')\"\n",
              "              title=\"Convert this dataframe to an interactive table.\"\n",
              "              style=\"display:none;\">\n",
              "        \n",
              "  <svg xmlns=\"http://www.w3.org/2000/svg\" height=\"24px\"viewBox=\"0 0 24 24\"\n",
              "       width=\"24px\">\n",
              "    <path d=\"M0 0h24v24H0V0z\" fill=\"none\"/>\n",
              "    <path d=\"M18.56 5.44l.94 2.06.94-2.06 2.06-.94-2.06-.94-.94-2.06-.94 2.06-2.06.94zm-11 1L8.5 8.5l.94-2.06 2.06-.94-2.06-.94L8.5 2.5l-.94 2.06-2.06.94zm10 10l.94 2.06.94-2.06 2.06-.94-2.06-.94-.94-2.06-.94 2.06-2.06.94z\"/><path d=\"M17.41 7.96l-1.37-1.37c-.4-.4-.92-.59-1.43-.59-.52 0-1.04.2-1.43.59L10.3 9.45l-7.72 7.72c-.78.78-.78 2.05 0 2.83L4 21.41c.39.39.9.59 1.41.59.51 0 1.02-.2 1.41-.59l7.78-7.78 2.81-2.81c.8-.78.8-2.07 0-2.86zM5.41 20L4 18.59l7.72-7.72 1.47 1.35L5.41 20z\"/>\n",
              "  </svg>\n",
              "      </button>\n",
              "      \n",
              "  <style>\n",
              "    .colab-df-container {\n",
              "      display:flex;\n",
              "      flex-wrap:wrap;\n",
              "      gap: 12px;\n",
              "    }\n",
              "\n",
              "    .colab-df-convert {\n",
              "      background-color: #E8F0FE;\n",
              "      border: none;\n",
              "      border-radius: 50%;\n",
              "      cursor: pointer;\n",
              "      display: none;\n",
              "      fill: #1967D2;\n",
              "      height: 32px;\n",
              "      padding: 0 0 0 0;\n",
              "      width: 32px;\n",
              "    }\n",
              "\n",
              "    .colab-df-convert:hover {\n",
              "      background-color: #E2EBFA;\n",
              "      box-shadow: 0px 1px 2px rgba(60, 64, 67, 0.3), 0px 1px 3px 1px rgba(60, 64, 67, 0.15);\n",
              "      fill: #174EA6;\n",
              "    }\n",
              "\n",
              "    [theme=dark] .colab-df-convert {\n",
              "      background-color: #3B4455;\n",
              "      fill: #D2E3FC;\n",
              "    }\n",
              "\n",
              "    [theme=dark] .colab-df-convert:hover {\n",
              "      background-color: #434B5C;\n",
              "      box-shadow: 0px 1px 3px 1px rgba(0, 0, 0, 0.15);\n",
              "      filter: drop-shadow(0px 1px 2px rgba(0, 0, 0, 0.3));\n",
              "      fill: #FFFFFF;\n",
              "    }\n",
              "  </style>\n",
              "\n",
              "      <script>\n",
              "        const buttonEl =\n",
              "          document.querySelector('#df-af1559bf-4337-4f33-92ee-6cbc6213c282 button.colab-df-convert');\n",
              "        buttonEl.style.display =\n",
              "          google.colab.kernel.accessAllowed ? 'block' : 'none';\n",
              "\n",
              "        async function convertToInteractive(key) {\n",
              "          const element = document.querySelector('#df-af1559bf-4337-4f33-92ee-6cbc6213c282');\n",
              "          const dataTable =\n",
              "            await google.colab.kernel.invokeFunction('convertToInteractive',\n",
              "                                                     [key], {});\n",
              "          if (!dataTable) return;\n",
              "\n",
              "          const docLinkHtml = 'Like what you see? Visit the ' +\n",
              "            '<a target=\"_blank\" href=https://colab.research.google.com/notebooks/data_table.ipynb>data table notebook</a>'\n",
              "            + ' to learn more about interactive tables.';\n",
              "          element.innerHTML = '';\n",
              "          dataTable['output_type'] = 'display_data';\n",
              "          await google.colab.output.renderOutput(dataTable, element);\n",
              "          const docLink = document.createElement('div');\n",
              "          docLink.innerHTML = docLinkHtml;\n",
              "          element.appendChild(docLink);\n",
              "        }\n",
              "      </script>\n",
              "    </div>\n",
              "  </div>\n",
              "  "
            ]
          },
          "metadata": {},
          "execution_count": 10
        }
      ]
    },
    {
      "cell_type": "markdown",
      "source": [
        "**Pregunta 1**\n",
        "\n",
        "Utilice histogramas para comparar la distribución de la columna _imdb_score_ relacionada con películas producidas en Francia y Canadá.\n",
        "\n",
        "Para crear el histograma:\n",
        "\n",
        "- Ajuste el número de _bins_ a 20\n",
        "- De nombres a las etiquetas de los ejes (xAxis y yAxis)\n",
        "- Remueva el _grid_"
      ],
      "metadata": {
        "id": "yC3wEk43fLoI"
      }
    },
    {
      "cell_type": "code",
      "source": [
        "#Espacio para el código de la pregunta 1\n",
        "import pandas as pd\n",
        "import matplotlib.pyplot as plt\n",
        "\n",
        "# Se carga los datos en un DataFrame:\n",
        "df = pd.read_csv('IMDBAnalyticsData/Data/movie_metadata.csv')\n",
        "\n",
        "# Se selecciona solo las filas correspondientes a películas producidas en Francia y Canadá\n",
        "df_fr_can = df.loc[df['country'].isin(['France', 'Canada'])]\n",
        "\n",
        "# Separa los datos por país:\n",
        "df_france = df_fr_can.loc[df_fr_can['country'] == 'France']\n",
        "df_canada = df_fr_can.loc[df_fr_can['country'] == 'Canada']\n",
        "\n",
        "# Se ajusta los bins:\n",
        "num_bins = 20\n",
        "\n",
        "# Se crea los histogramas:\n",
        "plt.hist(df_france['imdb_score'], bins=num_bins, alpha=0.5, label='France')\n",
        "plt.hist(df_canada['imdb_score'], bins=num_bins, alpha=0.5, label='Canada')\n",
        "\n",
        "# agregar etiquetas de los ejes y título\n",
        "plt.xlabel('IMDB')\n",
        "plt.ylabel('Frecuencia')\n",
        "plt.title('Distribucion de IMDB relacionados con las peliculas producidas en Francia y Canada')\n",
        "\n",
        "# Para remover el grid:\n",
        "plt.grid(False)\n",
        "\n",
        "# Para agregar la leyenda:\n",
        "plt.legend()\n",
        "\n",
        "# Para mostrar el histograma:\n",
        "plt.show()"
      ],
      "metadata": {
        "id": "gWP3ACHRf6W6",
        "outputId": "70a502f5-5fd9-4e28-d575-5f523dc72f22",
        "colab": {
          "base_uri": "https://localhost:8080/",
          "height": 295
        }
      },
      "execution_count": 11,
      "outputs": [
        {
          "output_type": "display_data",
          "data": {
            "text/plain": [
              "<Figure size 432x288 with 1 Axes>"
            ],
            "image/png": "[encoded data removed]"
          },
          "metadata": {
            "needs_background": "light"
          }
        }
      ]
    },
    {
      "cell_type": "markdown",
      "source": [
        "**Pregunta 2**\n",
        "\n",
        "Cree un histograma para mirar la distribución de la columna _imdb_score_ de las películas producidas en blanco y negro.\n",
        "\n",
        "Para crear el histograma:\n",
        "\n",
        "- Ajuste el número de _bins_ a 10\n",
        "- De nombres a las etiquetas de los ejes (xAxis y yAxis)\n",
        "- Remueva el _grid_"
      ],
      "metadata": {
        "id": "8QxeMk_6gSxI"
      }
    },
    {
      "cell_type": "code",
      "source": [
        "#Espacio para el código de la pregunta 2\n",
        "df_NaN = df[df['color'] != ' Black and White']\n",
        "\n",
        "plt.hist(df_NaN['imdb_score'], bins=10, alpha=0.6, label='Blanco y negro')\n",
        "\n",
        "plt.xlabel('imdb_score')\n",
        "plt.ylabel('Número de Películas')\n",
        "plt.title('Películas producidas en blanco y negro')\n",
        "\n",
        "plt.grid(False)\n",
        "\n",
        "plt.show()"
      ],
      "metadata": {
        "id": "s8dZuTJIgTiP",
        "outputId": "2a4ab5d2-ef91-4cf0-a075-08514e3315d2",
        "colab": {
          "base_uri": "https://localhost:8080/",
          "height": 296
        }
      },
      "execution_count": 12,
      "outputs": [
        {
          "output_type": "display_data",
          "data": {
            "text/plain": [
              "<Figure size 432x288 with 1 Axes>"
            ],
            "image/png": "[encoded data removed]"
          },
          "metadata": {
            "needs_background": "light"
          }
        }
      ]
    },
    {
      "cell_type": "markdown",
      "source": [
        "**Pregunta 3**\n",
        "\n",
        "¿Qué país tiene el mayor promedio de calificación de películas? Utilice figuras de barras para visualizar los resultados.  \n",
        "\n"
      ],
      "metadata": {
        "id": "dH1AdJmRgv43"
      }
    },
    {
      "cell_type": "code",
      "source": [
        "#Espacio para el código de la pregunta 3\n",
        "count_per_year = df.groupby('country')['imdb_score'].mean()\n",
        "print(count_per_year)\n",
        "print(f\"El país con más promedio de películas producidas fue {count_per_year.idxmax()} con {count_per_year.max()} Películas\")\n",
        "\n",
        "ax = count_per_year.plot.bar(figsize = (18,10))\n",
        "ax.set_xlabel('Country')\n",
        "ax.set_ylabel('mean of movies')"
      ],
      "metadata": {
        "id": "BsPKWFmUiYEW",
        "outputId": "15a63a4a-afb0-4510-b680-46b491b7e32d",
        "colab": {
          "base_uri": "https://localhost:8080/",
          "height": 962
        }
      },
      "execution_count": 13,
      "outputs": [
        {
          "output_type": "stream",
          "name": "stdout",
          "text": [
            "country\n",
            "Afghanistan             7.400000\n",
            "Argentina               7.500000\n",
            "Aruba                   4.800000\n",
            "Australia               6.514545\n",
            "Bahamas                 4.400000\n",
            "                          ...   \n",
            "Turkey                  6.000000\n",
            "UK                      6.818304\n",
            "USA                     6.367428\n",
            "United Arab Emirates    8.200000\n",
            "West Germany            7.266667\n",
            "Name: imdb_score, Length: 65, dtype: float64\n",
            "El país con más promedio de películas producidas fue Kyrgyzstan con 8.7 Películas\n"
          ]
        },
        {
          "output_type": "execute_result",
          "data": {
            "text/plain": [
              "Text(0, 0.5, 'mean of movies')"
            ]
          },
          "metadata": {},
          "execution_count": 13
        },
        {
          "output_type": "display_data",
          "data": {
            "text/plain": [
              "<Figure size 1296x720 with 1 Axes>"
            ],
            "image/png": "[encoded data removed]"
          },
          "metadata": {
            "needs_background": "light"
          }
        }
      ]
    },
    {
      "cell_type": "markdown",
      "source": [
        "**Pregunta 4** \n",
        "\n",
        "¿Cuántas películas a blanco y negro y cuántas películas a color se tienen en la base de datos?\n"
      ],
      "metadata": {
        "id": "U-FI2aUHibDb"
      }
    },
    {
      "cell_type": "code",
      "source": [
        "#Espacio para el código de la pregunta 4\n",
        "black_and_white_movies = df[df['color'] == ' Black and White']\n",
        "num_black_and_white_movies = len(black_and_white_movies)\n",
        "\n",
        "print(f\"Hay un total de {num_black_and_white_movies} Películas producidas en blanco y negro\")\n",
        "\n",
        "color = df[df['color'] == 'Color']\n",
        "num_color = len(color)\n",
        "\n",
        "print(f\"Hay un total de {num_color} películas producidas a color\")"
      ],
      "metadata": {
        "id": "lK_bvwSZiyq-",
        "outputId": "02f6188a-5614-42b9-98ef-59e43c48d2ce",
        "colab": {
          "base_uri": "https://localhost:8080/"
        }
      },
      "execution_count": 14,
      "outputs": [
        {
          "output_type": "stream",
          "name": "stdout",
          "text": [
            "Hay un total de 209 Películas producidas en blanco y negro\n",
            "Hay un total de 4815 películas producidas a color\n"
          ]
        }
      ]
    },
    {
      "cell_type": "markdown",
      "source": [
        "**Pregunta 5**\n",
        "\n",
        "¿Cuál película de Christopher Nolan tiene la mayor calificación (_imdb_score_)? Utilice figuras de barras para visualizar los resultados."
      ],
      "metadata": {
        "id": "it0hx_KwiyzI"
      }
    },
    {
      "cell_type": "code",
      "source": [
        "#Espacio para el código de la pregunta 5\n",
        "# Filtrar las películas dirigidas por Christopher Nolan\n",
        "\n",
        "# Seleccionar todas las películas de Christopher Nolan\n",
        "nolan_movies = df[df['director_name'] == 'Christopher Nolan']\n",
        "\n",
        "# Ordenar las películas por imdb_score de forma descendente\n",
        "nolan_movies = nolan_movies.sort_values(by='imdb_score', ascending=False)\n",
        "\n",
        "# Crear un gráfico de barras con los imdb_scores y los títulos de las películas\n",
        "plt.bar(nolan_movies['movie_title'], nolan_movies['imdb_score'])\n",
        "\n",
        "# Rotar las etiquetas del eje x para que se lean verticalmente\n",
        "plt.xticks(rotation=90)\n",
        "\n",
        "# Ajustar el tamaño de la figura para que los títulos de las películas no se superpongan\n",
        "plt.gcf().set_size_inches(12, 6)\n",
        "\n",
        "# Configurar el título y las etiquetas de los ejes\n",
        "plt.title('Calificaciones de Películas de Christopher Nolan')\n",
        "plt.xlabel('Película')\n",
        "plt.ylabel('IMDB Score')\n",
        "\n",
        "# Mostrar la figura\n",
        "plt.show()"
      ],
      "metadata": {
        "id": "u59YNp9Yiz1Q",
        "outputId": "bea96189-cbf6-4ca5-bf16-14d7674e5d21",
        "colab": {
          "base_uri": "https://localhost:8080/",
          "height": 508
        }
      },
      "execution_count": 15,
      "outputs": [
        {
          "output_type": "display_data",
          "data": {
            "text/plain": [
              "<Figure size 864x432 with 1 Axes>"
            ],
            "image/png": "[encoded data removed]"
          },
          "metadata": {
            "needs_background": "light"
          }
        }
      ]
    },
    {
      "cell_type": "markdown",
      "source": [
        "**Pregunta 6**\n",
        "\n",
        "Utilice un _line chart_ para visualizar cuántas películas se produjeron en USA desde el 2010 hasta el 2015."
      ],
      "metadata": {
        "id": "Fvp8nubNiz-z"
      }
    },
    {
      "cell_type": "code",
      "source": [
        "#Espacio para el código de la pregunta 6\n",
        "usa_movies = df[(df['country'] == 'USA') & (df['title_year'] >= 2010) & (df['title_year'] <= 2015)]\n",
        "\n",
        "# Contar el número de películas producidas por año:\n",
        "movies_per_year = usa_movies['title_year'].value_counts().sort_index()\n",
        "\n",
        "# Crear el line chart:\n",
        "plt.plot(movies_per_year.index, movies_per_year.values)\n",
        "plt.title('Producción de películas en USA (2010-2015):')\n",
        "plt.xlabel('Año:')\n",
        "plt.ylabel('Número de películas:')\n",
        "plt.show()"
      ],
      "metadata": {
        "id": "cJzaho3Oi3Vz",
        "outputId": "46808c59-3dc2-4677-d285-a57160fb4845",
        "colab": {
          "base_uri": "https://localhost:8080/",
          "height": 295
        }
      },
      "execution_count": 16,
      "outputs": [
        {
          "output_type": "display_data",
          "data": {
            "text/plain": [
              "<Figure size 432x288 with 1 Axes>"
            ],
            "image/png": "[encoded data removed]"
          },
          "metadata": {
            "needs_background": "light"
          }
        }
      ]
    },
    {
      "cell_type": "markdown",
      "source": [
        "**Pregunta 7**\n",
        "\n",
        "Grafique en un mapa el _imdb_score_ promedio de las películas producidas en cada país."
      ],
      "metadata": {
        "id": "p6M8kMTIjw-I"
      }
    },
    {
      "cell_type": "code",
      "source": [
        "#Espacio para el código de la pregunta 7\n"
      ],
      "metadata": {
        "id": "cYPPaOARkAoi"
      },
      "execution_count": null,
      "outputs": []
    },
    {
      "cell_type": "markdown",
      "source": [
        "**Pregunta 8**\n",
        "\n",
        "¿Qué información de su proyecto podría utilizar para hacer analítica de datos?\n"
      ],
      "metadata": {
        "id": "PU82gJzJj0e8"
      }
    },
    {
      "cell_type": "code",
      "source": [
        "En nuestro proyecto se podria utilizar la analitica de datos para conocer a los usuarios de sus preferencias y gustos de los juegos\n",
        "para tener un mejor uso del matchmaking y asi tener un buen uso de la aplicacion. ,"
      ],
      "metadata": {
        "id": "5mz1G1DnkCUC"
      },
      "execution_count": null,
      "outputs": []
    }
  ]
}